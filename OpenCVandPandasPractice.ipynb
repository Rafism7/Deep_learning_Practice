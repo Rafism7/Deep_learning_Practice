{
 "cells": [
  {
   "cell_type": "code",
   "execution_count": 6,
   "metadata": {},
   "outputs": [],
   "source": [
    "import numpy as np\n",
    "import matplotlib.pyplot as plt"
   ]
  },
  {
   "cell_type": "code",
   "execution_count": 7,
   "metadata": {},
   "outputs": [],
   "source": [
    "import cv2 as cv"
   ]
  },
  {
   "cell_type": "code",
   "execution_count": 8,
   "metadata": {},
   "outputs": [],
   "source": [
    "img = np.zeros((512,512,3))"
   ]
  },
  {
   "cell_type": "code",
   "execution_count": 11,
   "metadata": {},
   "outputs": [
    {
     "name": "stderr",
     "output_type": "stream",
     "text": [
      "Clipping input data to the valid range for imshow with RGB data ([0..1] for floats or [0..255] for integers).\n"
     ]
    },
    {
     "data": {
      "text/plain": [
       "<matplotlib.image.AxesImage at 0x7f0d906e8898>"
      ]
     },
     "execution_count": 11,
     "metadata": {},
     "output_type": "execute_result"
    },
    {
     "data": {
      "image/png": "[encoded data removed]",
      "text/plain": [
       "<Figure size 432x288 with 1 Axes>"
      ]
     },
     "metadata": {
      "needs_background": "light"
     },
     "output_type": "display_data"
    }
   ],
   "source": [
    "font = cv.FONT_HERSHEY_SIMPLEX\n",
    "cv.putText(img,'OpenCV',(10,500), font, 4,(255,255,255),2,cv.LINE_AA)\n",
    "plt.imshow(img)\n"
   ]
  },
  {
   "cell_type": "code",
   "execution_count": 13,
   "metadata": {},
   "outputs": [
    {
     "name": "stdout",
     "output_type": "stream",
     "text": [
      "/home/rafistark/Downloads\n"
     ]
    }
   ],
   "source": [
    "cd Downloads"
   ]
  },
  {
   "cell_type": "code",
   "execution_count": 14,
   "metadata": {},
   "outputs": [
    {
     "name": "stdout",
     "output_type": "stream",
     "text": [
      "/home/rafistark/Downloads/Mel\n"
     ]
    }
   ],
   "source": [
    "cd Mel"
   ]
  },
  {
   "cell_type": "code",
   "execution_count": 16,
   "metadata": {},
   "outputs": [
    {
     "name": "stdout",
     "output_type": "stream",
     "text": [
      "melb_data.csv\n"
     ]
    }
   ],
   "source": [
    "ls"
   ]
  },
  {
   "cell_type": "code",
   "execution_count": 15,
   "metadata": {},
   "outputs": [],
   "source": [
    "import pandas as pd"
   ]
  },
  {
   "cell_type": "code",
   "execution_count": 17,
   "metadata": {},
   "outputs": [],
   "source": [
    "df = pd.read_csv('/home/rafistark/Downloads/Mel/melb_data.csv')"
   ]
  },
  {
   "cell_type": "code",
   "execution_count": 18,
   "metadata": {},
   "outputs": [
    {
     "name": "stdout",
     "output_type": "stream",
     "text": [
      "       Suburb           Address  Rooms Type      Price Method SellerG  \\\n",
      "0  Abbotsford      85 Turner St      2    h  1480000.0      S  Biggin   \n",
      "1  Abbotsford   25 Bloomburg St      2    h  1035000.0      S  Biggin   \n",
      "2  Abbotsford      5 Charles St      3    h  1465000.0     SP  Biggin   \n",
      "3  Abbotsford  40 Federation La      3    h   850000.0     PI  Biggin   \n",
      "4  Abbotsford       55a Park St      4    h  1600000.0     VB  Nelson   \n",
      "\n",
      "        Date  Distance  Postcode  ...  Bathroom  Car  Landsize  BuildingArea  \\\n",
      "0  3/12/2016       2.5    3067.0  ...       1.0  1.0     202.0           NaN   \n",
      "1  4/02/2016       2.5    3067.0  ...       1.0  0.0     156.0          79.0   \n",
      "2  4/03/2017       2.5    3067.0  ...       2.0  0.0     134.0         150.0   \n",
      "3  4/03/2017       2.5    3067.0  ...       2.0  1.0      94.0           NaN   \n",
      "4  4/06/2016       2.5    3067.0  ...       1.0  2.0     120.0         142.0   \n",
      "\n",
      "   YearBuilt  CouncilArea Lattitude  Longtitude             Regionname  \\\n",
      "0        NaN        Yarra  -37.7996    144.9984  Northern Metropolitan   \n",
      "1     1900.0        Yarra  -37.8079    144.9934  Northern Metropolitan   \n",
      "2     1900.0        Yarra  -37.8093    144.9944  Northern Metropolitan   \n",
      "3        NaN        Yarra  -37.7969    144.9969  Northern Metropolitan   \n",
      "4     2014.0        Yarra  -37.8072    144.9941  Northern Metropolitan   \n",
      "\n",
      "  Propertycount  \n",
      "0        4019.0  \n",
      "1        4019.0  \n",
      "2        4019.0  \n",
      "3        4019.0  \n",
      "4        4019.0  \n",
      "\n",
      "[5 rows x 21 columns]\n"
     ]
    }
   ],
   "source": [
    "print(df.head())"
   ]
  },
  {
   "cell_type": "code",
   "execution_count": 19,
   "metadata": {},
   "outputs": [
    {
     "name": "stdout",
     "output_type": "stream",
     "text": [
      "<class 'pandas.core.frame.DataFrame'>\n",
      "RangeIndex: 13580 entries, 0 to 13579\n",
      "Data columns (total 21 columns):\n",
      "Suburb           13580 non-null object\n",
      "Address          13580 non-null object\n",
      "Rooms            13580 non-null int64\n",
      "Type             13580 non-null object\n",
      "Price            13580 non-null float64\n",
      "Method           13580 non-null object\n",
      "SellerG          13580 non-null object\n",
      "Date             13580 non-null object\n",
      "Distance         13580 non-null float64\n",
      "Postcode         13580 non-null float64\n",
      "Bedroom2         13580 non-null float64\n",
      "Bathroom         13580 non-null float64\n",
      "Car              13518 non-null float64\n",
      "Landsize         13580 non-null float64\n",
      "BuildingArea     7130 non-null float64\n",
      "YearBuilt        8205 non-null float64\n",
      "CouncilArea      12211 non-null object\n",
      "Lattitude        13580 non-null float64\n",
      "Longtitude       13580 non-null float64\n",
      "Regionname       13580 non-null object\n",
      "Propertycount    13580 non-null float64\n",
      "dtypes: float64(12), int64(1), object(8)\n",
      "memory usage: 2.2+ MB\n"
     ]
    }
   ],
   "source": [
    "df.info()"
   ]
  },
  {
   "cell_type": "code",
   "execution_count": 20,
   "metadata": {},
   "outputs": [
    {
     "name": "stdout",
     "output_type": "stream",
     "text": [
      "              Suburb           Address  Rooms Type      Price Method  \\\n",
      "0         Abbotsford      85 Turner St      2    h  1480000.0      S   \n",
      "1         Abbotsford   25 Bloomburg St      2    h  1035000.0      S   \n",
      "2         Abbotsford      5 Charles St      3    h  1465000.0     SP   \n",
      "3         Abbotsford  40 Federation La      3    h   850000.0     PI   \n",
      "4         Abbotsford       55a Park St      4    h  1600000.0     VB   \n",
      "...              ...               ...    ...  ...        ...    ...   \n",
      "13575  Wheelers Hill      12 Strada Cr      4    h  1245000.0      S   \n",
      "13576   Williamstown     77 Merrett Dr      3    h  1031000.0     SP   \n",
      "13577   Williamstown       83 Power St      3    h  1170000.0      S   \n",
      "13578   Williamstown      96 Verdon St      4    h  2500000.0     PI   \n",
      "13579     Yarraville        6 Agnes St      4    h  1285000.0     SP   \n",
      "\n",
      "        SellerG        Date  Distance  Postcode  ...  Bathroom  Car  Landsize  \\\n",
      "0        Biggin   3/12/2016       2.5    3067.0  ...       1.0  1.0     202.0   \n",
      "1        Biggin   4/02/2016       2.5    3067.0  ...       1.0  0.0     156.0   \n",
      "2        Biggin   4/03/2017       2.5    3067.0  ...       2.0  0.0     134.0   \n",
      "3        Biggin   4/03/2017       2.5    3067.0  ...       2.0  1.0      94.0   \n",
      "4        Nelson   4/06/2016       2.5    3067.0  ...       1.0  2.0     120.0   \n",
      "...         ...         ...       ...       ...  ...       ...  ...       ...   \n",
      "13575     Barry  26/08/2017      16.7    3150.0  ...       2.0  2.0     652.0   \n",
      "13576  Williams  26/08/2017       6.8    3016.0  ...       2.0  2.0     333.0   \n",
      "13577     Raine  26/08/2017       6.8    3016.0  ...       2.0  4.0     436.0   \n",
      "13578   Sweeney  26/08/2017       6.8    3016.0  ...       1.0  5.0     866.0   \n",
      "13579   Village  26/08/2017       6.3    3013.0  ...       1.0  1.0     362.0   \n",
      "\n",
      "       BuildingArea  YearBuilt  CouncilArea Lattitude  Longtitude  \\\n",
      "0               NaN        NaN        Yarra -37.79960   144.99840   \n",
      "1              79.0     1900.0        Yarra -37.80790   144.99340   \n",
      "2             150.0     1900.0        Yarra -37.80930   144.99440   \n",
      "3               NaN        NaN        Yarra -37.79690   144.99690   \n",
      "4             142.0     2014.0        Yarra -37.80720   144.99410   \n",
      "...             ...        ...          ...       ...         ...   \n",
      "13575           NaN     1981.0          NaN -37.90562   145.16761   \n",
      "13576         133.0     1995.0          NaN -37.85927   144.87904   \n",
      "13577           NaN     1997.0          NaN -37.85274   144.88738   \n",
      "13578         157.0     1920.0          NaN -37.85908   144.89299   \n",
      "13579         112.0     1920.0          NaN -37.81188   144.88449   \n",
      "\n",
      "                       Regionname Propertycount  \n",
      "0           Northern Metropolitan        4019.0  \n",
      "1           Northern Metropolitan        4019.0  \n",
      "2           Northern Metropolitan        4019.0  \n",
      "3           Northern Metropolitan        4019.0  \n",
      "4           Northern Metropolitan        4019.0  \n",
      "...                           ...           ...  \n",
      "13575  South-Eastern Metropolitan        7392.0  \n",
      "13576        Western Metropolitan        6380.0  \n",
      "13577        Western Metropolitan        6380.0  \n",
      "13578        Western Metropolitan        6380.0  \n",
      "13579        Western Metropolitan        6543.0  \n",
      "\n",
      "[13580 rows x 21 columns]\n"
     ]
    }
   ],
   "source": [
    "print(df)"
   ]
  },
  {
   "cell_type": "code",
   "execution_count": 21,
   "metadata": {},
   "outputs": [
    {
     "name": "stdout",
     "output_type": "stream",
     "text": [
      "(13580, 21)\n"
     ]
    }
   ],
   "source": [
    "print(df.shape)"
   ]
  },
  {
   "cell_type": "code",
   "execution_count": 22,
   "metadata": {},
   "outputs": [
    {
     "name": "stdout",
     "output_type": "stream",
     "text": [
      "13580\n"
     ]
    }
   ],
   "source": [
    "print(df.shape[0])"
   ]
  },
  {
   "cell_type": "code",
   "execution_count": null,
   "metadata": {},
   "outputs": [],
   "source": []
  }
 ],
 "metadata": {
  "kernelspec": {
   "display_name": "Python 3.5.6 64-bit",
   "language": "python",
   "name": "python35664bitcafbcfcd28864901a4a2883e975cde31"
  },
  "language_info": {
   "codemirror_mode": {
    "name": "ipython",
    "version": 3
   },
   "file_extension": ".py",
   "mimetype": "text/x-python",
   "name": "python",
   "nbconvert_exporter": "python",
   "pygments_lexer": "ipython3",
   "version": "3.5.6"
  }
 },
 "nbformat": 4,
 "nbformat_minor": 2
}
